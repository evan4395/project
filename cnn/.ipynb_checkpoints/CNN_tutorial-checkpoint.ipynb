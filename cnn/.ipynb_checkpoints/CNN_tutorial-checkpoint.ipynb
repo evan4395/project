{
 "cells": [
  {
   "cell_type": "code",
   "execution_count": null,
   "id": "20ae1016-3f57-40f5-9717-a67eee7bb8ce",
   "metadata": {},
   "outputs": [],
   "source": []
  }
 ],
 "metadata": {
  "kernelspec": {
   "display_name": "Python 3 (ipykernel)",
   "language": "python",
   "name": "python3"
  },
  "language_info": {
   "codemirror_mode": {
    "name": "ipython",
    "version": 3
   },
   "file_extension": ".py",
   "mimetype": "text/x-python",
   "name": "python",
   "nbconvert_exporter": "python",
   "pygments_lexer": "ipython3",
   "version": "3.9.16"
  }
 },
 "nbformat": 4,
 "nbformat_minor": 5
}
