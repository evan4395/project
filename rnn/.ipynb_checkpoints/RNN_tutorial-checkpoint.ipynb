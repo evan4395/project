{
 "cells": [
  {
   "cell_type": "code",
   "execution_count": 5,
   "id": "64a42422-e6a2-40fa-9a24-50735b0eff92",
   "metadata": {},
   "outputs": [],
   "source": [
    "from __future__ import unicode_literals, print_function, division\n",
    "from io import open\n",
    "import glob\n",
    "import os\n",
    "import unicodedata\n",
    "import string\n",
    "import random\n",
    "import matplotlib.pyplot as plt\n",
    "import torch\n",
    "import torch.nn as nn\n",
    "import torch.nn.functional as F\n",
    "import torch.optim as optim"
   ]
  },
  {
   "cell_type": "code",
   "execution_count": 4,
   "id": "b8792b28-2216-4f4c-9e2a-0aa14ba9c972",
   "metadata": {},
   "outputs": [
    {
     "name": "stdout",
     "output_type": "stream",
     "text": [
      "['data/names\\\\Arabic.txt', 'data/names\\\\Chinese.txt', 'data/names\\\\Czech.txt', 'data/names\\\\Dutch.txt', 'data/names\\\\English.txt', 'data/names\\\\French.txt', 'data/names\\\\German.txt', 'data/names\\\\Greek.txt', 'data/names\\\\Irish.txt', 'data/names\\\\Italian.txt', 'data/names\\\\Japanese.txt', 'data/names\\\\Korean.txt', 'data/names\\\\Polish.txt', 'data/names\\\\Portuguese.txt', 'data/names\\\\Russian.txt', 'data/names\\\\Scottish.txt', 'data/names\\\\Spanish.txt', 'data/names\\\\Vietnamese.txt']\n"
     ]
    }
   ],
   "source": [
    "def findFiles(path): return glob.glob(path)\n",
    "print(findFiles('data/names/*.txt'))"
   ]
  },
  {
   "cell_type": "code",
   "execution_count": 10,
   "id": "d8aaba45-e75a-46eb-8667-1d7bf8c40eab",
   "metadata": {},
   "outputs": [
    {
     "name": "stdout",
     "output_type": "stream",
     "text": [
      "abcdefghijklmnopqrstuvwxyzABCDEFGHIJKLMNOPQRSTUVWXYZ .,;'\n",
      "57\n"
     ]
    }
   ],
   "source": [
    "all_letters = string.ascii_letters + \" .,;'\"\n",
    "n_letters = len(all_letters)\n",
    "print(all_letters, n_letters, sep='\\n')"
   ]
  },
  {
   "cell_type": "code",
   "execution_count": 14,
   "id": "265eb647-c5f7-4f9e-9842-8a65b898efe8",
   "metadata": {},
   "outputs": [
    {
     "name": "stdout",
     "output_type": "stream",
     "text": [
      "Slusarski\n"
     ]
    }
   ],
   "source": [
    "def unicodeToAscii(s):\n",
    "    return ''.join(\n",
    "        c for c in unicodedata.normalize('NFD', s)\n",
    "        if unicodedata.category(c) != 'Mn'\n",
    "        \n",
    "    )\n",
    "print(unicodeToAscii('Ślusàrski'))"
   ]
  },
  {
   "cell_type": "code",
   "execution_count": 15,
   "id": "c2cc4878-b227-4f60-8415-ff538f33aa0b",
   "metadata": {},
   "outputs": [],
   "source": [
    "category_lines = {}\n",
    "all_categories = []"
   ]
  },
  {
   "cell_type": "code",
   "execution_count": 16,
   "id": "85163c0c-5708-4fc5-8bf4-8754d7bc39ee",
   "metadata": {},
   "outputs": [],
   "source": [
    "def readLines(filename):\n",
    "    lines = open(filename, encoding='utf-8').read().strip().split('\\n')\n",
    "    return [unicodeToAscii(line) for line in lines]"
   ]
  },
  {
   "cell_type": "code",
   "execution_count": 20,
   "id": "8a24a59a-d108-4720-a160-e119a5b44d0e",
   "metadata": {},
   "outputs": [],
   "source": [
    "for filename in findFiles('data/names/*.txt'):\n",
    "    category = os.path.splitext(os.path.basename(filename))[0]\n",
    "    all_categories.append(category)\n",
    "    lines = readLines(filename)\n",
    "    category_lines[category] = lines"
   ]
  },
  {
   "cell_type": "code",
   "execution_count": 27,
   "id": "d3601887-8638-406c-914d-6b5ca972c84f",
   "metadata": {},
   "outputs": [
    {
     "name": "stdout",
     "output_type": "stream",
     "text": [
      "18\n"
     ]
    }
   ],
   "source": [
    "n_categories = len(all_categories)\n",
    "print(n_categories)"
   ]
  },
  {
   "cell_type": "code",
   "execution_count": 29,
   "id": "6ea5c95e-1936-4bb4-ab62-8bc4bddeae34",
   "metadata": {},
   "outputs": [],
   "source": [
    "def letterToIndex(letter):\n",
    "    return all_letters.find(letter)"
   ]
  },
  {
   "cell_type": "code",
   "execution_count": 32,
   "id": "c673362b-6a5f-47b0-9439-b98d5b0b8b6c",
   "metadata": {},
   "outputs": [],
   "source": [
    "def letterToTensor(letter):\n",
    "    tensor = torch.zeros(1, n_letters)\n",
    "    tensor[0][letterToIndex(letter)] = 1\n",
    "    return tensor"
   ]
  },
  {
   "cell_type": "code",
   "execution_count": 42,
   "id": "bd06a874-906c-456a-8441-c6e55d3b86b2",
   "metadata": {},
   "outputs": [],
   "source": [
    "def lineToTensor(line):\n",
    "    tensor = torch.zeros(len(line), 1, n_letters)\n",
    "    for li, letter in enumerate(line):\n",
    "        tensor[li][0][letterToIndex(letter)] = 1\n",
    "    return tensor"
   ]
  },
  {
   "cell_type": "code",
   "execution_count": 47,
   "id": "01c3daaa-b52a-4560-bb30-2ffd5d51e2ff",
   "metadata": {},
   "outputs": [
    {
     "name": "stdout",
     "output_type": "stream",
     "text": [
      "tensor([[0., 0., 0., 0., 0., 0., 0., 0., 0., 0., 0., 0., 0., 0., 0., 0., 0., 0.,\n",
      "         0., 0., 0., 0., 0., 0., 0., 0., 0., 0., 0., 0., 0., 0., 0., 0., 0., 1.,\n",
      "         0., 0., 0., 0., 0., 0., 0., 0., 0., 0., 0., 0., 0., 0., 0., 0., 0., 0.,\n",
      "         0., 0., 0.]])\n",
      "\n",
      "tensor([[[0., 0., 0., 0., 0., 0., 0., 0., 0., 0., 0., 0., 0., 0., 0., 0., 0.,\n",
      "          0., 0., 0., 0., 0., 0., 0., 0., 0., 0., 0., 0., 0., 0., 0., 0., 0.,\n",
      "          0., 1., 0., 0., 0., 0., 0., 0., 0., 0., 0., 0., 0., 0., 0., 0., 0.,\n",
      "          0., 0., 0., 0., 0., 0.]],\n",
      "\n",
      "        [[0., 0., 0., 0., 0., 0., 0., 0., 0., 0., 0., 0., 0., 0., 1., 0., 0.,\n",
      "          0., 0., 0., 0., 0., 0., 0., 0., 0., 0., 0., 0., 0., 0., 0., 0., 0.,\n",
      "          0., 0., 0., 0., 0., 0., 0., 0., 0., 0., 0., 0., 0., 0., 0., 0., 0.,\n",
      "          0., 0., 0., 0., 0., 0.]],\n",
      "\n",
      "        [[0., 0., 0., 0., 0., 0., 0., 0., 0., 0., 0., 0., 0., 1., 0., 0., 0.,\n",
      "          0., 0., 0., 0., 0., 0., 0., 0., 0., 0., 0., 0., 0., 0., 0., 0., 0.,\n",
      "          0., 0., 0., 0., 0., 0., 0., 0., 0., 0., 0., 0., 0., 0., 0., 0., 0.,\n",
      "          0., 0., 0., 0., 0., 0.]],\n",
      "\n",
      "        [[0., 0., 0., 0., 1., 0., 0., 0., 0., 0., 0., 0., 0., 0., 0., 0., 0.,\n",
      "          0., 0., 0., 0., 0., 0., 0., 0., 0., 0., 0., 0., 0., 0., 0., 0., 0.,\n",
      "          0., 0., 0., 0., 0., 0., 0., 0., 0., 0., 0., 0., 0., 0., 0., 0., 0.,\n",
      "          0., 0., 0., 0., 0., 0.]],\n",
      "\n",
      "        [[0., 0., 0., 0., 0., 0., 0., 0., 0., 0., 0., 0., 0., 0., 0., 0., 0.,\n",
      "          0., 1., 0., 0., 0., 0., 0., 0., 0., 0., 0., 0., 0., 0., 0., 0., 0.,\n",
      "          0., 0., 0., 0., 0., 0., 0., 0., 0., 0., 0., 0., 0., 0., 0., 0., 0.,\n",
      "          0., 0., 0., 0., 0., 0.]]])\n"
     ]
    }
   ],
   "source": [
    "print(letterToTensor('J'))\n",
    "print()\n",
    "print(lineToTensor('Jones'))"
   ]
  },
  {
   "cell_type": "code",
   "execution_count": 111,
   "id": "a0bcc937-2bac-4400-9811-4ff79ed5b0eb",
   "metadata": {},
   "outputs": [],
   "source": [
    "class RNN(nn.Module):\n",
    "    def __init__(self, input_size, hidden_size, output_size):\n",
    "        super(RNN, self).__init__()\n",
    "        self.hidden_size = hidden_size\n",
    "        self.i2h = nn.Linear(input_size, hidden_size)\n",
    "        self.h2h = nn.Linear(hidden_size, hidden_size)\n",
    "        self.h2o = nn.Linear(hidden_size, output_size)\n",
    "        self.softmax = nn.LogSoftmax(dim=1)\n",
    "\n",
    "    def forward(self, input, hidden):\n",
    "        hidden = F.tanh(self.i2h(input) + self.h2h(hidden))\n",
    "        output = self.softmax(self.h2o(hidden))\n",
    "        return output, hidden\n",
    "\n",
    "    def initHidden(self):\n",
    "        return torch.zeros(1, self.hidden_size)\n",
    "\n",
    "n_hidden = 128\n",
    "model = RNN(n_letters, n_hidden, n_categories)   "
   ]
  },
  {
   "cell_type": "code",
   "execution_count": 58,
   "id": "aeed5a03-12bb-4817-a9da-7f919b489a79",
   "metadata": {},
   "outputs": [
    {
     "name": "stdout",
     "output_type": "stream",
     "text": [
      "tensor([[-2.9266, -2.8524, -2.7068, -3.0035, -2.8310, -2.8998, -2.9606, -2.8694,\n",
      "         -2.8123, -2.9888, -2.9619, -2.8359, -2.7936, -2.9482, -3.0594, -2.9003,\n",
      "         -2.8307, -2.9091]], grad_fn=<LogSoftmaxBackward0>)\n"
     ]
    }
   ],
   "source": [
    "input = lineToTensor('Albert')\n",
    "hidden = torch.zeros(1, n_hidden)\n",
    "\n",
    "output, next_hidden = model(input[0], hidden)\n",
    "print(output)"
   ]
  },
  {
   "cell_type": "code",
   "execution_count": 63,
   "id": "aff56aaa-5b87-461c-b8ec-6cc1ca2f0145",
   "metadata": {},
   "outputs": [
    {
     "name": "stdout",
     "output_type": "stream",
     "text": [
      "('Czech', 2)\n"
     ]
    }
   ],
   "source": [
    "def catFromOutput(output):\n",
    "    top_n, top_i = output.topk(1)\n",
    "    category_i = top_i[0].item()\n",
    "    return all_categories[category_i], category_i\n",
    "print(catFromOutput(output))"
   ]
  },
  {
   "cell_type": "code",
   "execution_count": 98,
   "id": "1052263a-bc97-45b3-97a1-5eb55446b0dc",
   "metadata": {},
   "outputs": [],
   "source": [
    "def randomChoice(l:list):\n",
    "    return l[random.randint(0, len(l) - 1)]\n",
    "\n",
    "def randomTrainingExample():\n",
    "    category = randomChoice(all_categories)\n",
    "    line = randomChoice(category_lines[category])\n",
    "    category_tensor = torch.tensor([all_categories.index(category)], dtype=torch.long)\n",
    "    line_tensor = lineToTensor(line)\n",
    "    return category, line, category_tensor, line_tensor\n"
   ]
  },
  {
   "cell_type": "code",
   "execution_count": 99,
   "id": "db3568d7-67a7-4257-a22c-a356d9ea82da",
   "metadata": {},
   "outputs": [
    {
     "name": "stdout",
     "output_type": "stream",
     "text": [
      "category : German / line : Forst\n",
      "category : Polish / line : Filipowski\n",
      "category : Portuguese / line : Rosario\n",
      "category : Polish / line : Jaskolski\n",
      "category : Japanese / line : Murasaki\n",
      "category : Vietnamese / line : Tieu\n",
      "category : Chinese / line : Lin\n",
      "category : Spanish / line : Nieves\n",
      "category : Spanish / line : Roig\n",
      "category : Greek / line : Diakogeorgiou\n"
     ]
    }
   ],
   "source": [
    "for _ in range(10):\n",
    "    category, line, category_tensor, line_tensor = randomTrainingExample()\n",
    "    print(f'category : {category} / line : {line}')"
   ]
  },
  {
   "cell_type": "code",
   "execution_count": 112,
   "id": "f4954175-fc5c-4476-ba9a-126043791278",
   "metadata": {},
   "outputs": [],
   "source": [
    "loss_fn = nn.NLLLoss()\n",
    "optimizer = optim.SGD(model.parameters(), lr=0.005)"
   ]
  },
  {
   "cell_type": "code",
   "execution_count": 103,
   "id": "9066f0aa-4301-4274-9983-d2ef075276fb",
   "metadata": {},
   "outputs": [],
   "source": [
    "def train(category_tensor, line_tensor, optimizer):\n",
    "    hidden = model.initHidden()\n",
    "    for i in range(line_tensor.size()[0]):\n",
    "        output, hidden = model(line_tensor[i], hidden)\n",
    "    loss = loss_fn(output, category_tensor)\n",
    "    loss.backward()\n",
    "    optimizer.step()\n",
    "    optimizer.zero_grad()\n",
    "\n",
    "    return output, loss.item()"
   ]
  },
  {
   "cell_type": "code",
   "execution_count": 113,
   "id": "a004eb26-24d8-4cd7-9180-53beafe38944",
   "metadata": {},
   "outputs": [
    {
     "name": "stdout",
     "output_type": "stream",
     "text": [
      "[5000 / 100000] loss : 2.0142974853515625, guess : Dutch, correct : O, line : Penners\n",
      "[10000 / 100000] loss : 2.0101561546325684, guess : Russian, correct : X(Irish), line : Mcmahon\n",
      "[15000 / 100000] loss : 1.1261422634124756, guess : Chinese, correct : X(Vietnamese), line : Van\n",
      "[20000 / 100000] loss : 1.4755562543869019, guess : Italian, correct : X(Spanish), line : Castillo\n",
      "[25000 / 100000] loss : 2.2191338539123535, guess : Scottish, correct : X(Czech), line : Prchal\n",
      "[30000 / 100000] loss : 0.05395068973302841, guess : Polish, correct : O, line : Szczepanski\n",
      "[35000 / 100000] loss : 0.07543204724788666, guess : Italian, correct : O, line : Alesini\n",
      "[40000 / 100000] loss : 0.8541399836540222, guess : Irish, correct : O, line : Conall\n",
      "[45000 / 100000] loss : 0.3282513916492462, guess : Italian, correct : O, line : Salvai\n",
      "[50000 / 100000] loss : 0.07176697999238968, guess : Japanese, correct : O, line : Serizawa\n",
      "[55000 / 100000] loss : 0.6056615114212036, guess : Portuguese, correct : O, line : Lobo\n",
      "[60000 / 100000] loss : 0.18025824427604675, guess : Scottish, correct : O, line : Mitchell\n",
      "[65000 / 100000] loss : 0.5498773455619812, guess : Dutch, correct : O, line : Agthoven\n",
      "[70000 / 100000] loss : 0.4982772171497345, guess : Korean, correct : O, line : Jung \n",
      "[75000 / 100000] loss : 2.8685340881347656, guess : French, correct : X(Scottish), line : Alexander\n",
      "[80000 / 100000] loss : 0.012846803292632103, guess : Greek, correct : O, line : Kalakos\n",
      "[85000 / 100000] loss : 0.759981095790863, guess : Scottish, correct : O, line : Russell\n",
      "[90000 / 100000] loss : 0.1367325335741043, guess : Irish, correct : O, line : Meadhra\n",
      "[95000 / 100000] loss : 0.05977212265133858, guess : Vietnamese, correct : O, line : Huynh\n",
      "[100000 / 100000] loss : 0.8453341722488403, guess : Chinese, correct : O, line : Sha\n"
     ]
    }
   ],
   "source": [
    "n_iters = 100000\n",
    "print_every = 5000\n",
    "plot_every = 1000\n",
    "\n",
    "current_loss = 0\n",
    "all_losses = []\n",
    "\n",
    "for iter in range(1, n_iters + 1):\n",
    "    category, line, category_tensor, line_tensor = randomTrainingExample()\n",
    "    output, loss = train(category_tensor, line_tensor, optimizer)\n",
    "    current_loss += loss\n",
    "\n",
    "    if iter % print_every == 0:\n",
    "        guess, guess_i = catFromOutput(output)\n",
    "        correct = 'O' if guess == category else f'X({category})'\n",
    "        print(f'[{iter} / {n_iters}] loss : {loss}, guess : {guess}, correct : {correct}, line : {line}')\n",
    "\n",
    "    if iter % plot_every == 0:\n",
    "        all_losses.append(current_loss/plot_every)\n",
    "        current_loss = 0"
   ]
  },
  {
   "cell_type": "code",
   "execution_count": 114,
   "id": "091b679e-80e7-49cf-8872-55c9b46cf612",
   "metadata": {},
   "outputs": [
    {
     "data": {
      "text/plain": [
       "[<matplotlib.lines.Line2D at 0x1d57c0fbf70>]"
      ]
     },
     "execution_count": 114,
     "metadata": {},
     "output_type": "execute_result"
    },
    {
     "data": {
      "image/png": "[encoded data removed]",
      "text/plain": [
       "<Figure size 640x480 with 1 Axes>"
      ]
     },
     "metadata": {},
     "output_type": "display_data"
    }
   ],
   "source": [
    "plt.figure()\n",
    "plt.plot(all_losses)"
   ]
  },
  {
   "cell_type": "code",
   "execution_count": 119,
   "id": "9c712b90-abfb-400f-b0d1-95544be7fe3a",
   "metadata": {},
   "outputs": [
    {
     "name": "stdout",
     "output_type": "stream",
     "text": [
      "[0 / 5000] loss : 2.038879871368408, guess : English, correct : X(Spanish), line : Grec\n",
      "[500 / 5000] loss : 0.6643383502960205, guess : Czech, correct : O, line : Hladky\n",
      "[1000 / 5000] loss : 2.0095720291137695, guess : Dutch, correct : X(French), line : Lambert\n",
      "[1500 / 5000] loss : 3.267904758453369, guess : Dutch, correct : X(German), line : Enns\n",
      "[2000 / 5000] loss : 1.3241010904312134, guess : Portuguese, correct : O, line : Lobo\n",
      "[2500 / 5000] loss : 0.3587094843387604, guess : Scottish, correct : O, line : White\n",
      "[3000 / 5000] loss : 0.618671178817749, guess : Dutch, correct : O, line : Segher\n",
      "[3500 / 5000] loss : 0.7971193194389343, guess : Dutch, correct : O, line : Tillens\n",
      "[4000 / 5000] loss : 0.45654377341270447, guess : Polish, correct : O, line : Wojda\n",
      "[4500 / 5000] loss : 0.15147630870342255, guess : Dutch, correct : O, line : Lauwers\n",
      "0.7016\n"
     ]
    }
   ],
   "source": [
    "def test(category_tensor, line_tensor):\n",
    "    hidden = model.initHidden()\n",
    "    with torch.no_grad():    \n",
    "        for i in range(line_tensor.size()[0]):\n",
    "            output, hidden = model(line_tensor[i], hidden)\n",
    "        loss = loss_fn(output, category_tensor)\n",
    "    return output, loss\n",
    "\n",
    "model.eval()\n",
    "auc = 0\n",
    "n_iters = 5000\n",
    "for iter in range(n_iters):\n",
    "    category, line, category_tensor, line_tensor = randomTrainingExample()\n",
    "    output, loss = test(category_tensor, line_tensor)\n",
    "    guess, guess_i = catFromOutput(output)\n",
    "    correct = 'O' if guess == category else f'X({category})'\n",
    "    if iter % 500 ==0:\n",
    "        print(f'[{iter} / {n_iters}] loss : {loss}, guess : {guess}, correct : {correct}, line : {line}')\n",
    "    if correct == 'O':\n",
    "        auc += 1\n",
    "print(auc/n_iters)"
   ]
  },
  {
   "cell_type": "code",
   "execution_count": 120,
   "id": "4df11aec-a45c-45e9-993a-494a578ba422",
   "metadata": {},
   "outputs": [
    {
     "data": {
      "text/plain": [
       "OrderedDict([('i2h.weight',\n",
       "              tensor([[ 0.2369, -0.0735, -0.0371,  ..., -0.0450,  0.0751,  0.1906],\n",
       "                      [ 0.1510,  0.0193, -0.4809,  ...,  0.0963,  0.1024,  0.1584],\n",
       "                      [ 0.0717,  0.2686,  0.1196,  ...,  0.0653, -0.0873,  0.1138],\n",
       "                      ...,\n",
       "                      [ 0.0446, -0.0063, -0.0410,  ..., -0.0796, -0.0392, -0.0548],\n",
       "                      [ 0.0860,  0.1877, -0.4248,  ...,  0.1305,  0.1205,  0.0150],\n",
       "                      [-0.5066,  0.1071, -0.0227,  ..., -0.0910, -0.0890, -0.0886]])),\n",
       "             ('i2h.bias',\n",
       "              tensor([ 0.0886,  0.0302,  0.0315, -0.0747, -0.0647,  0.0153,  0.0848,  0.0078,\n",
       "                       0.0203,  0.0420,  0.0227,  0.0413, -0.0003, -0.2016, -0.0192, -0.0584,\n",
       "                      -0.0429,  0.1375, -0.0287, -0.1635,  0.0841,  0.0041,  0.0498, -0.0929,\n",
       "                      -0.1869,  0.0197,  0.0934,  0.1617, -0.0073,  0.0575,  0.1201, -0.0336,\n",
       "                      -0.0367,  0.1216,  0.0444,  0.0805,  0.0309,  0.0112, -0.0061, -0.0712,\n",
       "                       0.0830, -0.0233,  0.0484,  0.1518,  0.2148,  0.0451,  0.0069, -0.0859,\n",
       "                      -0.0427, -0.0951, -0.0602, -0.0809,  0.0605,  0.0539, -0.1062, -0.0203,\n",
       "                       0.0329, -0.0427, -0.0473,  0.0484,  0.0354, -0.0124,  0.1526, -0.0129,\n",
       "                      -0.0424,  0.0386, -0.1068, -0.0120, -0.1151, -0.1141, -0.0842,  0.0593,\n",
       "                       0.1008,  0.0526, -0.1014,  0.1044,  0.1857, -0.1402, -0.0353, -0.2202,\n",
       "                      -0.0272, -0.1201, -0.2185, -0.1597, -0.0121, -0.0292, -0.0045,  0.0711,\n",
       "                       0.1220, -0.0864, -0.1117, -0.0065, -0.0116,  0.1206,  0.0612, -0.1188,\n",
       "                       0.0053, -0.0072, -0.1123, -0.0806, -0.0131, -0.0666, -0.0594,  0.0810,\n",
       "                      -0.0325,  0.0326, -0.1509, -0.0248, -0.0949,  0.0276,  0.1132,  0.0106,\n",
       "                       0.0913,  0.0656,  0.0187, -0.0284, -0.0759, -0.0360, -0.0495, -0.0971,\n",
       "                       0.0265, -0.0953, -0.0894,  0.0595, -0.0079,  0.0213,  0.0402,  0.0517])),\n",
       "             ('h2h.weight',\n",
       "              tensor([[ 0.0762,  0.0050, -0.0220,  ..., -0.0822, -0.1653, -0.1445],\n",
       "                      [ 0.0229, -0.0043, -0.0119,  ..., -0.0638,  0.0756,  0.0781],\n",
       "                      [-0.0381,  0.2283,  0.0226,  ...,  0.1496,  0.0298, -0.0682],\n",
       "                      ...,\n",
       "                      [ 0.0555, -0.1466,  0.1006,  ..., -0.0553,  0.0252,  0.1041],\n",
       "                      [ 0.0382, -0.1061, -0.0889,  ..., -0.0611,  0.0391, -0.1537],\n",
       "                      [-0.0274,  0.0399,  0.1190,  ...,  0.0642, -0.0502, -0.0185]])),\n",
       "             ('h2h.bias',\n",
       "              tensor([ 0.0267,  0.0346,  0.0528, -0.0329, -0.0819, -0.0446,  0.0890,  0.0783,\n",
       "                      -0.1434,  0.1079,  0.0785, -0.0275,  0.1103, -0.0003, -0.0783, -0.0371,\n",
       "                      -0.0167, -0.0276,  0.0542,  0.0261,  0.0432, -0.0065, -0.0871, -0.0851,\n",
       "                      -0.1188,  0.0018,  0.0875,  0.0189, -0.0090, -0.0453,  0.0770,  0.1673,\n",
       "                       0.0224,  0.0569,  0.0998, -0.0180, -0.0056,  0.0249,  0.0401,  0.0026,\n",
       "                      -0.0519, -0.0333,  0.0187, -0.0447,  0.0739, -0.1316, -0.1101, -0.1013,\n",
       "                       0.0315,  0.0444, -0.0200,  0.0171,  0.1043,  0.0079, -0.0415, -0.0914,\n",
       "                      -0.0176, -0.0247,  0.0091, -0.1297,  0.0112,  0.0561,  0.0473, -0.1146,\n",
       "                       0.0390,  0.0013, -0.0076,  0.0358,  0.0843,  0.0573, -0.0578,  0.0589,\n",
       "                      -0.0727, -0.1014, -0.0619, -0.0140,  0.1396, -0.0567,  0.0767, -0.1511,\n",
       "                       0.0500, -0.0049, -0.0440,  0.0191,  0.0655,  0.0288, -0.0141,  0.0470,\n",
       "                       0.0484,  0.0446,  0.0049,  0.0462,  0.0331, -0.0650,  0.0416,  0.0540,\n",
       "                      -0.1345,  0.0027,  0.0101, -0.0553,  0.0675, -0.0082, -0.0838,  0.0414,\n",
       "                       0.1248, -0.0136, -0.1338,  0.0365,  0.0373, -0.0027,  0.1248, -0.0872,\n",
       "                       0.0994, -0.0442,  0.0060,  0.0650, -0.0090, -0.0869, -0.0137, -0.2227,\n",
       "                       0.0486,  0.0025, -0.0767, -0.0071,  0.0270,  0.0243,  0.0165, -0.1151])),\n",
       "             ('h2o.weight',\n",
       "              tensor([[-0.3112, -0.0852,  0.1659,  ...,  0.2253, -0.0384,  0.1801],\n",
       "                      [-0.1235,  0.3218,  0.1105,  ...,  0.2960, -0.0989, -0.0018],\n",
       "                      [ 0.0567, -0.1485,  0.3766,  ..., -0.0814,  0.1054,  0.0191],\n",
       "                      ...,\n",
       "                      [-0.0218, -0.2251,  0.1652,  ..., -0.0589,  0.0386,  0.3377],\n",
       "                      [ 0.3155,  0.0836, -0.1157,  ...,  0.2020,  0.1053, -0.4720],\n",
       "                      [-0.1235,  0.0354,  0.1509,  ...,  0.0612, -0.2621, -0.1397]])),\n",
       "             ('h2o.bias',\n",
       "              tensor([-0.1411, -0.0392,  0.4180,  0.1022,  0.5547,  0.0052,  0.3202, -0.5072,\n",
       "                      -0.0051, -0.2534, -0.0402,  0.3923,  0.0008, -0.6650,  0.1750, -0.2206,\n",
       "                       0.1088,  0.0585]))])"
      ]
     },
     "execution_count": 120,
     "metadata": {},
     "output_type": "execute_result"
    }
   ],
   "source": [
    "torch.save(model, 'model.pth')\n",
    "model_copy = torch.load('model.pth', weights_only=False)\n",
    "model_copy.state_dict()"
   ]
  },
  {
   "cell_type": "code",
   "execution_count": null,
   "id": "7bdf33d9-1b6c-4cbc-9ee2-c3a7eb88852c",
   "metadata": {},
   "outputs": [],
   "source": []
  }
 ],
 "metadata": {
  "kernelspec": {
   "display_name": "Python 3 (ipykernel)",
   "language": "python",
   "name": "python3"
  },
  "language_info": {
   "codemirror_mode": {
    "name": "ipython",
    "version": 3
   },
   "file_extension": ".py",
   "mimetype": "text/x-python",
   "name": "python",
   "nbconvert_exporter": "python",
   "pygments_lexer": "ipython3",
   "version": "3.9.16"
  }
 },
 "nbformat": 4,
 "nbformat_minor": 5
}
